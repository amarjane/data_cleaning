{
 "cells": [
  {
   "cell_type": "code",
   "execution_count": 1,
   "metadata": {
    "collapsed": true
   },
   "outputs": [],
   "source": [
    "import numpy as np\n",
    "import pandas as pd\n",
    "import matplotlib.pyplot as plt"
   ]
  },
  {
   "cell_type": "code",
   "execution_count": 2,
   "metadata": {
    "collapsed": false
   },
   "outputs": [],
   "source": [
    "def read_informe_csv (file, sep=',') :\n",
    "    data = pd.read_csv(file, sep=sep)\n",
    "    from IPython.display import display\n",
    "    print 'Shape of data is : ', data.shape\n",
    "    print '\\nFeatures of data are : ', data.columns.values\n",
    "    print '\\nIndex of data is : ', data.index\n",
    "    print '\\nHead of data is : ' \n",
    "    display(data.head())\n",
    "    print '\\nTail of data is : '\n",
    "    display(data.tail())\n",
    "    return data"
   ]
  },
  {
   "cell_type": "code",
   "execution_count": 3,
   "metadata": {
    "collapsed": false,
    "deletable": true,
    "editable": true
   },
   "outputs": [
    {
     "name": "stdout",
     "output_type": "stream",
     "text": [
      "Shape of data is :  (4920, 4)\n",
      "\n",
      "Features of data are :  ['TIME' 'GEO' 'INDIC_ED' 'Value']\n",
      "\n",
      "Index of data is :  RangeIndex(start=0, stop=4920, step=1)\n",
      "\n",
      "Head of data is : \n"
     ]
    },
    {
     "data": {
      "text/html": [
       "<div>\n",
       "<table border=\"1\" class=\"dataframe\">\n",
       "  <thead>\n",
       "    <tr style=\"text-align: right;\">\n",
       "      <th></th>\n",
       "      <th>TIME</th>\n",
       "      <th>GEO</th>\n",
       "      <th>INDIC_ED</th>\n",
       "      <th>Value</th>\n",
       "    </tr>\n",
       "  </thead>\n",
       "  <tbody>\n",
       "    <tr>\n",
       "      <th>0</th>\n",
       "      <td>2002</td>\n",
       "      <td>European Union (27 countries)</td>\n",
       "      <td>Total public expenditure on education as % of ...</td>\n",
       "      <td>5.10</td>\n",
       "    </tr>\n",
       "    <tr>\n",
       "      <th>1</th>\n",
       "      <td>2002</td>\n",
       "      <td>European Union (27 countries)</td>\n",
       "      <td>Total public expenditure on education as % of ...</td>\n",
       "      <td>1.14</td>\n",
       "    </tr>\n",
       "    <tr>\n",
       "      <th>2</th>\n",
       "      <td>2002</td>\n",
       "      <td>European Union (27 countries)</td>\n",
       "      <td>Total public expenditure on education as % of ...</td>\n",
       "      <td>2.32</td>\n",
       "    </tr>\n",
       "    <tr>\n",
       "      <th>3</th>\n",
       "      <td>2002</td>\n",
       "      <td>European Union (27 countries)</td>\n",
       "      <td>Total public expenditure on education as % of ...</td>\n",
       "      <td>1.15</td>\n",
       "    </tr>\n",
       "    <tr>\n",
       "      <th>4</th>\n",
       "      <td>2002</td>\n",
       "      <td>European Union (27 countries)</td>\n",
       "      <td>Total public expenditure on education as % of ...</td>\n",
       "      <td>0.50</td>\n",
       "    </tr>\n",
       "  </tbody>\n",
       "</table>\n",
       "</div>"
      ],
      "text/plain": [
       "   TIME                            GEO  \\\n",
       "0  2002  European Union (27 countries)   \n",
       "1  2002  European Union (27 countries)   \n",
       "2  2002  European Union (27 countries)   \n",
       "3  2002  European Union (27 countries)   \n",
       "4  2002  European Union (27 countries)   \n",
       "\n",
       "                                            INDIC_ED Value  \n",
       "0  Total public expenditure on education as % of ...  5.10  \n",
       "1  Total public expenditure on education as % of ...  1.14  \n",
       "2  Total public expenditure on education as % of ...  2.32  \n",
       "3  Total public expenditure on education as % of ...  1.15  \n",
       "4  Total public expenditure on education as % of ...  0.50  "
      ]
     },
     "metadata": {},
     "output_type": "display_data"
    },
    {
     "name": "stdout",
     "output_type": "stream",
     "text": [
      "\n",
      "Tail of data is : \n"
     ]
    },
    {
     "data": {
      "text/html": [
       "<div>\n",
       "<table border=\"1\" class=\"dataframe\">\n",
       "  <thead>\n",
       "    <tr style=\"text-align: right;\">\n",
       "      <th></th>\n",
       "      <th>TIME</th>\n",
       "      <th>GEO</th>\n",
       "      <th>INDIC_ED</th>\n",
       "      <th>Value</th>\n",
       "    </tr>\n",
       "  </thead>\n",
       "  <tbody>\n",
       "    <tr>\n",
       "      <th>4915</th>\n",
       "      <td>2011</td>\n",
       "      <td>Japan</td>\n",
       "      <td>Total public expenditure on education as % of ...</td>\n",
       "      <td>:</td>\n",
       "    </tr>\n",
       "    <tr>\n",
       "      <th>4916</th>\n",
       "      <td>2011</td>\n",
       "      <td>Japan</td>\n",
       "      <td>Expenditure on educational institutions from p...</td>\n",
       "      <td>:</td>\n",
       "    </tr>\n",
       "    <tr>\n",
       "      <th>4917</th>\n",
       "      <td>2011</td>\n",
       "      <td>Japan</td>\n",
       "      <td>Public subsidies to the private sector as % of...</td>\n",
       "      <td>:</td>\n",
       "    </tr>\n",
       "    <tr>\n",
       "      <th>4918</th>\n",
       "      <td>2011</td>\n",
       "      <td>Japan</td>\n",
       "      <td>Expenditure on educational institutions from p...</td>\n",
       "      <td>1.56</td>\n",
       "    </tr>\n",
       "    <tr>\n",
       "      <th>4919</th>\n",
       "      <td>2011</td>\n",
       "      <td>Japan</td>\n",
       "      <td>Total public expenditure on education as % of ...</td>\n",
       "      <td>3.67</td>\n",
       "    </tr>\n",
       "  </tbody>\n",
       "</table>\n",
       "</div>"
      ],
      "text/plain": [
       "      TIME    GEO                                           INDIC_ED Value\n",
       "4915  2011  Japan  Total public expenditure on education as % of ...     :\n",
       "4916  2011  Japan  Expenditure on educational institutions from p...     :\n",
       "4917  2011  Japan  Public subsidies to the private sector as % of...     :\n",
       "4918  2011  Japan  Expenditure on educational institutions from p...  1.56\n",
       "4919  2011  Japan  Total public expenditure on education as % of ...  3.67"
      ]
     },
     "metadata": {},
     "output_type": "display_data"
    }
   ],
   "source": [
    "data = read_informe_csv('data.csv', sep=',')"
   ]
  },
  {
   "cell_type": "code",
   "execution_count": 4,
   "metadata": {
    "collapsed": false
   },
   "outputs": [],
   "source": [
    "def type_of_features (data) :\n",
    "    for feature in data.columns.values :\n",
    "        print 'type of feature ', feature, ' is : ', data[feature].dtype"
   ]
  },
  {
   "cell_type": "code",
   "execution_count": 5,
   "metadata": {
    "collapsed": false
   },
   "outputs": [
    {
     "name": "stdout",
     "output_type": "stream",
     "text": [
      "type of feature  TIME  is :  int64\n",
      "type of feature  GEO  is :  object\n",
      "type of feature  INDIC_ED  is :  object\n",
      "type of feature  Value  is :  object\n"
     ]
    }
   ],
   "source": [
    "type_of_features(data)"
   ]
  },
  {
   "cell_type": "code",
   "execution_count": 6,
   "metadata": {
    "collapsed": false
   },
   "outputs": [],
   "source": [
    "def missing (data) :\n",
    "    from IPython.display import display\n",
    "    if data.notnull().all().all() :\n",
    "            print 'No missing values !'\n",
    "    else :\n",
    "        for feature in data.columns.values :\n",
    "            if data[feature].isnull().any() :\n",
    "                print 'Feature ', feature, ' has missing values !\\n'\n"
   ]
  },
  {
   "cell_type": "code",
   "execution_count": 7,
   "metadata": {
    "collapsed": false
   },
   "outputs": [],
   "source": [
    "data.drop('INDIC_ED', axis=1, inplace=True)"
   ]
  },
  {
   "cell_type": "code",
   "execution_count": 8,
   "metadata": {
    "collapsed": false
   },
   "outputs": [
    {
     "name": "stdout",
     "output_type": "stream",
     "text": [
      "No missing values !\n"
     ]
    }
   ],
   "source": [
    "missing(data)"
   ]
  },
  {
   "cell_type": "code",
   "execution_count": 47,
   "metadata": {
    "collapsed": false,
    "scrolled": true
   },
   "outputs": [
    {
     "name": "stdout",
     "output_type": "stream",
     "text": [
      "Shape of data is :  (39, 13)\n",
      "\n",
      "Features of data are :  ['indic_ed,unit,geo\\\\time' '2000 ' '2001 ' '2002 ' '2003 ' '2004 ' '2005 '\n",
      " '2006 ' '2007 ' '2008 ' '2009 ' '2010 ' '2011 ']\n",
      "\n",
      "Index of data is :  RangeIndex(start=0, stop=39, step=1)\n",
      "\n",
      "Head of data is : \n"
     ]
    },
    {
     "data": {
      "text/html": [
       "<div>\n",
       "<table border=\"1\" class=\"dataframe\">\n",
       "  <thead>\n",
       "    <tr style=\"text-align: right;\">\n",
       "      <th></th>\n",
       "      <th>indic_ed,unit,geo\\time</th>\n",
       "      <th>2000</th>\n",
       "      <th>2001</th>\n",
       "      <th>2002</th>\n",
       "      <th>2003</th>\n",
       "      <th>2004</th>\n",
       "      <th>2005</th>\n",
       "      <th>2006</th>\n",
       "      <th>2007</th>\n",
       "      <th>2008</th>\n",
       "      <th>2009</th>\n",
       "      <th>2010</th>\n",
       "      <th>2011</th>\n",
       "    </tr>\n",
       "  </thead>\n",
       "  <tbody>\n",
       "    <tr>\n",
       "      <th>0</th>\n",
       "      <td>FA01_1,CP_MPPS,AT</td>\n",
       "      <td>11457.0</td>\n",
       "      <td>11485.4</td>\n",
       "      <td>11920.4</td>\n",
       "      <td>11850.0</td>\n",
       "      <td>12355.6</td>\n",
       "      <td>12575.2</td>\n",
       "      <td>13286.5</td>\n",
       "      <td>13659.6</td>\n",
       "      <td>14157.6</td>\n",
       "      <td>14694.3</td>\n",
       "      <td>15283.8</td>\n",
       "      <td>15717.3</td>\n",
       "    </tr>\n",
       "    <tr>\n",
       "      <th>1</th>\n",
       "      <td>FA01_1,CP_MPPS,BE</td>\n",
       "      <td>: u</td>\n",
       "      <td>15086.1 i</td>\n",
       "      <td>16116.6 d</td>\n",
       "      <td>15963.4 d</td>\n",
       "      <td>16267.0 d</td>\n",
       "      <td>16694.1 d</td>\n",
       "      <td>17565.0 d</td>\n",
       "      <td>18431.6 d</td>\n",
       "      <td>19903.9 d</td>\n",
       "      <td>19593.6 d</td>\n",
       "      <td>21074.5 d</td>\n",
       "      <td>21681.7 d</td>\n",
       "    </tr>\n",
       "    <tr>\n",
       "      <th>2</th>\n",
       "      <td>FA01_1,CP_MPPS,BG</td>\n",
       "      <td>1715.8</td>\n",
       "      <td>1723.7</td>\n",
       "      <td>2002.8</td>\n",
       "      <td>2216.1</td>\n",
       "      <td>2551.4</td>\n",
       "      <td>2695.1</td>\n",
       "      <td>2801.5</td>\n",
       "      <td>2976.4</td>\n",
       "      <td>3672.4</td>\n",
       "      <td>3573.7</td>\n",
       "      <td>3328.1</td>\n",
       "      <td>3278.5</td>\n",
       "    </tr>\n",
       "    <tr>\n",
       "      <th>3</th>\n",
       "      <td>FA01_1,CP_MPPS,CH</td>\n",
       "      <td>10279.8</td>\n",
       "      <td>10864.9</td>\n",
       "      <td>12006.7</td>\n",
       "      <td>12254.3</td>\n",
       "      <td>12408.3</td>\n",
       "      <td>12695.7</td>\n",
       "      <td>13173.9</td>\n",
       "      <td>13389.9</td>\n",
       "      <td>14177.3</td>\n",
       "      <td>14723.8</td>\n",
       "      <td>15334.1</td>\n",
       "      <td>16393.3</td>\n",
       "    </tr>\n",
       "    <tr>\n",
       "      <th>4</th>\n",
       "      <td>FA01_1,CP_MPPS,CY</td>\n",
       "      <td>627.3 i</td>\n",
       "      <td>747.7 i</td>\n",
       "      <td>848.0 d</td>\n",
       "      <td>968.0 d</td>\n",
       "      <td>967.0 d</td>\n",
       "      <td>1070.0 d</td>\n",
       "      <td>1159.9 d</td>\n",
       "      <td>1254.1 d</td>\n",
       "      <td>1455.9 d</td>\n",
       "      <td>1512.5 d</td>\n",
       "      <td>1552.3 d</td>\n",
       "      <td>1573.4 d</td>\n",
       "    </tr>\n",
       "  </tbody>\n",
       "</table>\n",
       "</div>"
      ],
      "text/plain": [
       "  indic_ed,unit,geo\\time     2000       2001       2002       2003   \\\n",
       "0      FA01_1,CP_MPPS,AT  11457.0    11485.4    11920.4    11850.0    \n",
       "1      FA01_1,CP_MPPS,BE       : u  15086.1 i  16116.6 d  15963.4 d   \n",
       "2      FA01_1,CP_MPPS,BG   1715.8     1723.7     2002.8     2216.1    \n",
       "3      FA01_1,CP_MPPS,CH  10279.8    10864.9    12006.7    12254.3    \n",
       "4      FA01_1,CP_MPPS,CY   627.3 i    747.7 i    848.0 d    968.0 d   \n",
       "\n",
       "       2004       2005       2006       2007       2008       2009   \\\n",
       "0   12355.6    12575.2    13286.5    13659.6    14157.6    14694.3    \n",
       "1  16267.0 d  16694.1 d  17565.0 d  18431.6 d  19903.9 d  19593.6 d   \n",
       "2    2551.4     2695.1     2801.5     2976.4     3672.4     3573.7    \n",
       "3   12408.3    12695.7    13173.9    13389.9    14177.3    14723.8    \n",
       "4    967.0 d   1070.0 d   1159.9 d   1254.1 d   1455.9 d   1512.5 d   \n",
       "\n",
       "       2010       2011   \n",
       "0   15283.8    15717.3   \n",
       "1  21074.5 d  21681.7 d  \n",
       "2    3328.1     3278.5   \n",
       "3   15334.1    16393.3   \n",
       "4   1552.3 d   1573.4 d  "
      ]
     },
     "metadata": {},
     "output_type": "display_data"
    },
    {
     "name": "stdout",
     "output_type": "stream",
     "text": [
      "\n",
      "Tail of data is : \n"
     ]
    },
    {
     "data": {
      "text/html": [
       "<div>\n",
       "<table border=\"1\" class=\"dataframe\">\n",
       "  <thead>\n",
       "    <tr style=\"text-align: right;\">\n",
       "      <th></th>\n",
       "      <th>indic_ed,unit,geo\\time</th>\n",
       "      <th>2000</th>\n",
       "      <th>2001</th>\n",
       "      <th>2002</th>\n",
       "      <th>2003</th>\n",
       "      <th>2004</th>\n",
       "      <th>2005</th>\n",
       "      <th>2006</th>\n",
       "      <th>2007</th>\n",
       "      <th>2008</th>\n",
       "      <th>2009</th>\n",
       "      <th>2010</th>\n",
       "      <th>2011</th>\n",
       "    </tr>\n",
       "  </thead>\n",
       "  <tbody>\n",
       "    <tr>\n",
       "      <th>34</th>\n",
       "      <td>FA01_1,CP_MPPS,SI</td>\n",
       "      <td>:</td>\n",
       "      <td>1848.8</td>\n",
       "      <td>1936.0</td>\n",
       "      <td>2002.9</td>\n",
       "      <td>2146.5</td>\n",
       "      <td>2249.2</td>\n",
       "      <td>2373.6</td>\n",
       "      <td>2297.2</td>\n",
       "      <td>2384.3</td>\n",
       "      <td>2348.7</td>\n",
       "      <td>2397.1</td>\n",
       "      <td>2469.7</td>\n",
       "    </tr>\n",
       "    <tr>\n",
       "      <th>35</th>\n",
       "      <td>FA01_1,CP_MPPS,SK</td>\n",
       "      <td>2121.0 d</td>\n",
       "      <td>2221.6 d</td>\n",
       "      <td>2560.6 d</td>\n",
       "      <td>2653.1 d</td>\n",
       "      <td>2780.9 d</td>\n",
       "      <td>2803.1 d</td>\n",
       "      <td>3060.4 d</td>\n",
       "      <td>3306.0 d</td>\n",
       "      <td>3539.5</td>\n",
       "      <td>3775.6</td>\n",
       "      <td>4156.9</td>\n",
       "      <td>4140.0</td>\n",
       "    </tr>\n",
       "    <tr>\n",
       "      <th>36</th>\n",
       "      <td>FA01_1,CP_MPPS,TR</td>\n",
       "      <td>14088.0 i</td>\n",
       "      <td>13060.7 i</td>\n",
       "      <td>13773.9 i</td>\n",
       "      <td>14706.2 i</td>\n",
       "      <td>18073.8 i</td>\n",
       "      <td>:</td>\n",
       "      <td>20860.1 i</td>\n",
       "      <td>:</td>\n",
       "      <td>:</td>\n",
       "      <td>:</td>\n",
       "      <td>:</td>\n",
       "      <td>40212.7</td>\n",
       "    </tr>\n",
       "    <tr>\n",
       "      <th>37</th>\n",
       "      <td>FA01_1,CP_MPPS,UK</td>\n",
       "      <td>58270.0</td>\n",
       "      <td>61813.4</td>\n",
       "      <td>71820.8</td>\n",
       "      <td>75265.9</td>\n",
       "      <td>79208.4</td>\n",
       "      <td>85658.5</td>\n",
       "      <td>90296.8</td>\n",
       "      <td>91061.6 d</td>\n",
       "      <td>90945.8</td>\n",
       "      <td>92442.0</td>\n",
       "      <td>97363.0</td>\n",
       "      <td>96614.8</td>\n",
       "    </tr>\n",
       "    <tr>\n",
       "      <th>38</th>\n",
       "      <td>FA01_1,CP_MPPS,US</td>\n",
       "      <td>415088.0</td>\n",
       "      <td>481996.5</td>\n",
       "      <td>489687.8</td>\n",
       "      <td>515030.6 d</td>\n",
       "      <td>514045.6 d</td>\n",
       "      <td>520494.1 d</td>\n",
       "      <td>573017.4 d</td>\n",
       "      <td>589839.7 d</td>\n",
       "      <td>599288.6 d</td>\n",
       "      <td>578501.8 d</td>\n",
       "      <td>595812.4 d</td>\n",
       "      <td>588019.2 d</td>\n",
       "    </tr>\n",
       "  </tbody>\n",
       "</table>\n",
       "</div>"
      ],
      "text/plain": [
       "   indic_ed,unit,geo\\time      2000       2001       2002        2003   \\\n",
       "34      FA01_1,CP_MPPS,SI         :     1848.8     1936.0      2002.9    \n",
       "35      FA01_1,CP_MPPS,SK   2121.0 d   2221.6 d   2560.6 d    2653.1 d   \n",
       "36      FA01_1,CP_MPPS,TR  14088.0 i  13060.7 i  13773.9 i   14706.2 i   \n",
       "37      FA01_1,CP_MPPS,UK   58270.0    61813.4    71820.8     75265.9    \n",
       "38      FA01_1,CP_MPPS,US  415088.0   481996.5   489687.8   515030.6 d   \n",
       "\n",
       "         2004        2005        2006        2007        2008        2009   \\\n",
       "34     2146.5      2249.2      2373.6      2297.2      2384.3      2348.7    \n",
       "35    2780.9 d    2803.1 d    3060.4 d    3306.0 d     3539.5      3775.6    \n",
       "36   18073.8 i          :    20860.1 i          :           :           :    \n",
       "37    79208.4     85658.5     90296.8    91061.6 d    90945.8     92442.0    \n",
       "38  514045.6 d  520494.1 d  573017.4 d  589839.7 d  599288.6 d  578501.8 d   \n",
       "\n",
       "         2010        2011   \n",
       "34     2397.1      2469.7   \n",
       "35     4156.9      4140.0   \n",
       "36          :     40212.7   \n",
       "37    97363.0     96614.8   \n",
       "38  595812.4 d  588019.2 d  "
      ]
     },
     "metadata": {},
     "output_type": "display_data"
    }
   ],
   "source": [
    "data = read_informe_csv('data_2.tsv', sep='\\t')"
   ]
  },
  {
   "cell_type": "code",
   "execution_count": 44,
   "metadata": {
    "collapsed": true
   },
   "outputs": [],
   "source": [
    "def reindexing (data) :\n",
    "    data['Geo'] = data.iloc[:, 0].str.slice(len('FA01_1,CP_MPPS,'), )\n",
    "    geo = pd.Series(data['Geo'])\n",
    "    data.drop(['indic_ed,unit,geo\\\\time', 'Geo'], axis=1, inplace=True)\n",
    "    data.set_index(geo, inplace=True)\n",
    "    data.sort_index(inplace=True)"
   ]
  },
  {
   "cell_type": "code",
   "execution_count": 48,
   "metadata": {
    "collapsed": false
   },
   "outputs": [],
   "source": [
    "reindexing(data)"
   ]
  },
  {
   "cell_type": "code",
   "execution_count": 49,
   "metadata": {
    "collapsed": false,
    "scrolled": true
   },
   "outputs": [
    {
     "data": {
      "text/html": [
       "<div>\n",
       "<table border=\"1\" class=\"dataframe\">\n",
       "  <thead>\n",
       "    <tr style=\"text-align: right;\">\n",
       "      <th></th>\n",
       "      <th>2000</th>\n",
       "      <th>2001</th>\n",
       "      <th>2002</th>\n",
       "      <th>2003</th>\n",
       "      <th>2004</th>\n",
       "      <th>2005</th>\n",
       "      <th>2006</th>\n",
       "      <th>2007</th>\n",
       "      <th>2008</th>\n",
       "      <th>2009</th>\n",
       "      <th>2010</th>\n",
       "      <th>2011</th>\n",
       "    </tr>\n",
       "    <tr>\n",
       "      <th>Geo</th>\n",
       "      <th></th>\n",
       "      <th></th>\n",
       "      <th></th>\n",
       "      <th></th>\n",
       "      <th></th>\n",
       "      <th></th>\n",
       "      <th></th>\n",
       "      <th></th>\n",
       "      <th></th>\n",
       "      <th></th>\n",
       "      <th></th>\n",
       "      <th></th>\n",
       "    </tr>\n",
       "  </thead>\n",
       "  <tbody>\n",
       "    <tr>\n",
       "      <th>AT</th>\n",
       "      <td>11457.0</td>\n",
       "      <td>11485.4</td>\n",
       "      <td>11920.4</td>\n",
       "      <td>11850.0</td>\n",
       "      <td>12355.6</td>\n",
       "      <td>12575.2</td>\n",
       "      <td>13286.5</td>\n",
       "      <td>13659.6</td>\n",
       "      <td>14157.6</td>\n",
       "      <td>14694.3</td>\n",
       "      <td>15283.8</td>\n",
       "      <td>15717.3</td>\n",
       "    </tr>\n",
       "    <tr>\n",
       "      <th>BE</th>\n",
       "      <td>: u</td>\n",
       "      <td>15086.1 i</td>\n",
       "      <td>16116.6 d</td>\n",
       "      <td>15963.4 d</td>\n",
       "      <td>16267.0 d</td>\n",
       "      <td>16694.1 d</td>\n",
       "      <td>17565.0 d</td>\n",
       "      <td>18431.6 d</td>\n",
       "      <td>19903.9 d</td>\n",
       "      <td>19593.6 d</td>\n",
       "      <td>21074.5 d</td>\n",
       "      <td>21681.7 d</td>\n",
       "    </tr>\n",
       "    <tr>\n",
       "      <th>BG</th>\n",
       "      <td>1715.8</td>\n",
       "      <td>1723.7</td>\n",
       "      <td>2002.8</td>\n",
       "      <td>2216.1</td>\n",
       "      <td>2551.4</td>\n",
       "      <td>2695.1</td>\n",
       "      <td>2801.5</td>\n",
       "      <td>2976.4</td>\n",
       "      <td>3672.4</td>\n",
       "      <td>3573.7</td>\n",
       "      <td>3328.1</td>\n",
       "      <td>3278.5</td>\n",
       "    </tr>\n",
       "    <tr>\n",
       "      <th>CH</th>\n",
       "      <td>10279.8</td>\n",
       "      <td>10864.9</td>\n",
       "      <td>12006.7</td>\n",
       "      <td>12254.3</td>\n",
       "      <td>12408.3</td>\n",
       "      <td>12695.7</td>\n",
       "      <td>13173.9</td>\n",
       "      <td>13389.9</td>\n",
       "      <td>14177.3</td>\n",
       "      <td>14723.8</td>\n",
       "      <td>15334.1</td>\n",
       "      <td>16393.3</td>\n",
       "    </tr>\n",
       "    <tr>\n",
       "      <th>CY</th>\n",
       "      <td>627.3 i</td>\n",
       "      <td>747.7 i</td>\n",
       "      <td>848.0 d</td>\n",
       "      <td>968.0 d</td>\n",
       "      <td>967.0 d</td>\n",
       "      <td>1070.0 d</td>\n",
       "      <td>1159.9 d</td>\n",
       "      <td>1254.1 d</td>\n",
       "      <td>1455.9 d</td>\n",
       "      <td>1512.5 d</td>\n",
       "      <td>1552.3 d</td>\n",
       "      <td>1573.4 d</td>\n",
       "    </tr>\n",
       "  </tbody>\n",
       "</table>\n",
       "</div>"
      ],
      "text/plain": [
       "        2000       2001       2002       2003       2004       2005   \\\n",
       "Geo                                                                    \n",
       "AT   11457.0    11485.4    11920.4    11850.0    12355.6    12575.2    \n",
       "BE        : u  15086.1 i  16116.6 d  15963.4 d  16267.0 d  16694.1 d   \n",
       "BG    1715.8     1723.7     2002.8     2216.1     2551.4     2695.1    \n",
       "CH   10279.8    10864.9    12006.7    12254.3    12408.3    12695.7    \n",
       "CY    627.3 i    747.7 i    848.0 d    968.0 d    967.0 d   1070.0 d   \n",
       "\n",
       "         2006       2007       2008       2009       2010       2011   \n",
       "Geo                                                                    \n",
       "AT    13286.5    13659.6    14157.6    14694.3    15283.8    15717.3   \n",
       "BE   17565.0 d  18431.6 d  19903.9 d  19593.6 d  21074.5 d  21681.7 d  \n",
       "BG     2801.5     2976.4     3672.4     3573.7     3328.1     3278.5   \n",
       "CH    13173.9    13389.9    14177.3    14723.8    15334.1    16393.3   \n",
       "CY    1159.9 d   1254.1 d   1455.9 d   1512.5 d   1552.3 d   1573.4 d  "
      ]
     },
     "execution_count": 49,
     "metadata": {},
     "output_type": "execute_result"
    }
   ],
   "source": [
    "data.head()"
   ]
  },
  {
   "cell_type": "code",
   "execution_count": 53,
   "metadata": {
    "collapsed": true
   },
   "outputs": [],
   "source": [
    "data[data == ': u'] = np.nan"
   ]
  },
  {
   "cell_type": "code",
   "execution_count": null,
   "metadata": {
    "collapsed": true
   },
   "outputs": [],
   "source": []
  }
 ],
 "metadata": {
  "kernelspec": {
   "display_name": "Python 2",
   "language": "python",
   "name": "python2"
  },
  "language_info": {
   "codemirror_mode": {
    "name": "ipython",
    "version": 2
   },
   "file_extension": ".py",
   "mimetype": "text/x-python",
   "name": "python",
   "nbconvert_exporter": "python",
   "pygments_lexer": "ipython2",
   "version": "2.7.13"
  }
 },
 "nbformat": 4,
 "nbformat_minor": 2
}
